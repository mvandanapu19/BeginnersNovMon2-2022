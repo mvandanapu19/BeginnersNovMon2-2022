{
  "nbformat": 4,
  "nbformat_minor": 0,
  "metadata": {
    "colab": {
      "provenance": [],
      "authorship_tag": "ABX9TyOo7wpxA2aROk3bBjLMx4ZJ",
      "include_colab_link": true
    },
    "kernelspec": {
      "name": "python3",
      "display_name": "Python 3"
    },
    "language_info": {
      "name": "python"
    }
  },
  "cells": [
    {
      "cell_type": "markdown",
      "metadata": {
        "id": "view-in-github",
        "colab_type": "text"
      },
      "source": [
        "<a href=\"https://colab.research.google.com/github/scaleracademy/BeginnersNovMon2-2022/blob/main/Function2.ipynb\" target=\"_parent\"><img src=\"https://colab.research.google.com/assets/colab-badge.svg\" alt=\"Open In Colab\"/></a>"
      ]
    },
    {
      "cell_type": "code",
      "execution_count": 1,
      "metadata": {
        "colab": {
          "base_uri": "https://localhost:8080/",
          "height": 132
        },
        "id": "Aqf6IAfIYLfo",
        "outputId": "48c72db9-ee65-467b-ba87-a4902db85dd3"
      },
      "outputs": [
        {
          "output_type": "error",
          "ename": "SyntaxError",
          "evalue": "ignored",
          "traceback": [
            "\u001b[0;36m  File \u001b[0;32m\"<ipython-input-1-1188382f29f8>\"\u001b[0;36m, line \u001b[0;32m3\u001b[0m\n\u001b[0;31m    function random():\u001b[0m\n\u001b[0m             ^\u001b[0m\n\u001b[0;31mSyntaxError\u001b[0m\u001b[0;31m:\u001b[0m invalid syntax\n"
          ]
        }
      ],
      "source": [
        "#quiz\n",
        "# What will be the output of the following code?\n",
        "function random():\n",
        "    return True\n",
        "\n",
        "random()"
      ]
    },
    {
      "cell_type": "code",
      "source": [
        "def random():\n",
        "    return True\n",
        "\n",
        "random()"
      ],
      "metadata": {
        "colab": {
          "base_uri": "https://localhost:8080/"
        },
        "id": "5Rbf6tPdYOi1",
        "outputId": "79118ef0-c584-450a-e9a8-7aa2c8d909c4"
      },
      "execution_count": 2,
      "outputs": [
        {
          "output_type": "execute_result",
          "data": {
            "text/plain": [
              "True"
            ]
          },
          "metadata": {},
          "execution_count": 2
        }
      ]
    },
    {
      "cell_type": "code",
      "source": [
        "def random():\n",
        "    return 0\n",
        "\n",
        "random()"
      ],
      "metadata": {
        "colab": {
          "base_uri": "https://localhost:8080/"
        },
        "id": "LcnY9WfcYOfd",
        "outputId": "df31c6f1-8a3f-428b-d9d5-1f220bd8fe8c"
      },
      "execution_count": 3,
      "outputs": [
        {
          "output_type": "execute_result",
          "data": {
            "text/plain": [
              "0"
            ]
          },
          "metadata": {},
          "execution_count": 3
        }
      ]
    },
    {
      "cell_type": "code",
      "source": [
        "def random():\n",
        "    print('hello')\n",
        "\n",
        "print(random())"
      ],
      "metadata": {
        "colab": {
          "base_uri": "https://localhost:8080/"
        },
        "id": "OGbja8c1YOc6",
        "outputId": "2ea35e9a-2521-4d66-9193-d90ebbd8a199"
      },
      "execution_count": 4,
      "outputs": [
        {
          "output_type": "stream",
          "name": "stdout",
          "text": [
            "hello\n",
            "None\n"
          ]
        }
      ]
    },
    {
      "cell_type": "code",
      "source": [
        "#quiz\n",
        "#What will be the output of the following piece of code?\n",
        "def abc:\n",
        "    return \"I am a function!\"\n",
        "\n",
        "abc()"
      ],
      "metadata": {
        "colab": {
          "base_uri": "https://localhost:8080/",
          "height": 132
        },
        "id": "CpzRnqj9YOaJ",
        "outputId": "544b8279-091f-479f-f60a-4b4f3a7ef04c"
      },
      "execution_count": 5,
      "outputs": [
        {
          "output_type": "error",
          "ename": "SyntaxError",
          "evalue": "ignored",
          "traceback": [
            "\u001b[0;36m  File \u001b[0;32m\"<ipython-input-5-a6a6aa1c51cc>\"\u001b[0;36m, line \u001b[0;32m3\u001b[0m\n\u001b[0;31m    def abc:\u001b[0m\n\u001b[0m           ^\u001b[0m\n\u001b[0;31mSyntaxError\u001b[0m\u001b[0;31m:\u001b[0m invalid syntax\n"
          ]
        }
      ]
    },
    {
      "cell_type": "code",
      "source": [
        "def abc():\n",
        "    return \"I am a function!\"\n",
        "    \n",
        "\n",
        "print(abc())"
      ],
      "metadata": {
        "colab": {
          "base_uri": "https://localhost:8080/"
        },
        "id": "7c7ilqmpYOXr",
        "outputId": "29ce5c0e-2bd6-4f34-9fc6-162f3cfce568"
      },
      "execution_count": 8,
      "outputs": [
        {
          "output_type": "stream",
          "name": "stdout",
          "text": [
            "None\n"
          ]
        }
      ]
    },
    {
      "cell_type": "code",
      "source": [
        "#quiz\n",
        "def f(a, b, c):\n",
        "    print((a + b + c)/3)\n",
        "f(3, 5, 7)"
      ],
      "metadata": {
        "colab": {
          "base_uri": "https://localhost:8080/"
        },
        "id": "sK_X-cw_YOU6",
        "outputId": "687f483f-b024-4efe-fae1-805ecae8d281"
      },
      "execution_count": 9,
      "outputs": [
        {
          "output_type": "stream",
          "name": "stdout",
          "text": [
            "5.0\n"
          ]
        }
      ]
    },
    {
      "cell_type": "code",
      "source": [
        "#quiz\n",
        "# What is output of the following code snippet?\n",
        "def power(number,exponent):\n",
        "    return number**exponent\n",
        "\n",
        "print(power(3, 2))"
      ],
      "metadata": {
        "colab": {
          "base_uri": "https://localhost:8080/"
        },
        "id": "-TRdZmSSYOSL",
        "outputId": "557edd6b-61e2-448a-d42e-5cfa55b86ac0"
      },
      "execution_count": 10,
      "outputs": [
        {
          "output_type": "stream",
          "name": "stdout",
          "text": [
            "9\n"
          ]
        }
      ]
    },
    {
      "cell_type": "markdown",
      "source": [
        "keyword arguments & positional arguments"
      ],
      "metadata": {
        "id": "ltn9fqYIe9lV"
      }
    },
    {
      "cell_type": "code",
      "source": [
        "def introduce_family(me, father,mother,sibling):\n",
        "  print('me=',me)\n",
        "  print('father=',father)\n",
        "  print('mother=',mother)\n",
        "  print('sibling=',sibling)"
      ],
      "metadata": {
        "id": "LJFho4Xye9TT"
      },
      "execution_count": 11,
      "outputs": []
    },
    {
      "cell_type": "code",
      "source": [
        "introduce_family('A','B','C','D')#POSITIONAL ARGUMENT"
      ],
      "metadata": {
        "colab": {
          "base_uri": "https://localhost:8080/"
        },
        "id": "WW5Q8Ws7fbYA",
        "outputId": "9a58aa58-8bbe-4235-bcca-668434bc862a"
      },
      "execution_count": 12,
      "outputs": [
        {
          "output_type": "stream",
          "name": "stdout",
          "text": [
            "me= A\n",
            "father= B\n",
            "mother= C\n",
            "sibling= D\n"
          ]
        }
      ]
    },
    {
      "cell_type": "code",
      "source": [],
      "metadata": {
        "id": "BEOFxk1dgFgQ"
      },
      "execution_count": null,
      "outputs": []
    },
    {
      "cell_type": "code",
      "source": [],
      "metadata": {
        "id": "9RkFBzWGgKLG"
      },
      "execution_count": null,
      "outputs": []
    },
    {
      "cell_type": "code",
      "source": [],
      "metadata": {
        "id": "PjOHG0J1gKGe"
      },
      "execution_count": null,
      "outputs": []
    },
    {
      "cell_type": "code",
      "source": [],
      "metadata": {
        "id": "T83TzmH5gKD0"
      },
      "execution_count": null,
      "outputs": []
    },
    {
      "cell_type": "code",
      "source": [
        "def introduce_family(me, father,mother,sibling):\n",
        "  print('me=',me)\n",
        "  print('father=',father)\n",
        "  print('mother=',mother)\n",
        "  print('sibling=',sibling)"
      ],
      "metadata": {
        "id": "C-1mbSw7gKBT"
      },
      "execution_count": null,
      "outputs": []
    },
    {
      "cell_type": "code",
      "source": [
        "#keyword arguments\n",
        "introduce_family(father='A',mother='B',sibling='C',me='D')"
      ],
      "metadata": {
        "colab": {
          "base_uri": "https://localhost:8080/"
        },
        "id": "O33fOZqrgJ-l",
        "outputId": "2ed57b5d-9d67-4788-b26e-3f8a5475eed4"
      },
      "execution_count": 13,
      "outputs": [
        {
          "output_type": "stream",
          "name": "stdout",
          "text": [
            "me= D\n",
            "father= A\n",
            "mother= B\n",
            "sibling= C\n"
          ]
        }
      ]
    },
    {
      "cell_type": "code",
      "source": [
        "def random(a,b,c,d):\n",
        "  print(a,b,c,d)"
      ],
      "metadata": {
        "id": "IKvostNFg-7J"
      },
      "execution_count": 14,
      "outputs": []
    },
    {
      "cell_type": "code",
      "source": [
        "random(1,5,2,3)"
      ],
      "metadata": {
        "colab": {
          "base_uri": "https://localhost:8080/"
        },
        "id": "R3BKZV1JhFjD",
        "outputId": "91a78941-72a7-44f6-c1fd-67270a69d639"
      },
      "execution_count": 15,
      "outputs": [
        {
          "output_type": "stream",
          "name": "stdout",
          "text": [
            "1 5 2 3\n"
          ]
        }
      ]
    },
    {
      "cell_type": "code",
      "source": [
        "random(b=3,a=2,c=5,d=1)"
      ],
      "metadata": {
        "colab": {
          "base_uri": "https://localhost:8080/"
        },
        "id": "ZNPs2OFUhWVr",
        "outputId": "cc92c6bf-e395-4089-dddd-64492ea9777f"
      },
      "execution_count": 16,
      "outputs": [
        {
          "output_type": "stream",
          "name": "stdout",
          "text": [
            "2 3 5 1\n"
          ]
        }
      ]
    },
    {
      "cell_type": "code",
      "source": [
        "help(random)"
      ],
      "metadata": {
        "colab": {
          "base_uri": "https://localhost:8080/"
        },
        "id": "vG1pi2N5h0eI",
        "outputId": "3c49b990-fcca-4b24-b20c-d391010063a2"
      },
      "execution_count": 18,
      "outputs": [
        {
          "output_type": "stream",
          "name": "stdout",
          "text": [
            "Help on function random in module __main__:\n",
            "\n",
            "random(a, b, c, d)\n",
            "\n"
          ]
        }
      ]
    },
    {
      "cell_type": "code",
      "source": [
        "def random(a,b,c,d):\n",
        "  print(a,b,c,d)"
      ],
      "metadata": {
        "id": "pHlUcFBRh63Z"
      },
      "execution_count": null,
      "outputs": []
    },
    {
      "cell_type": "code",
      "source": [
        "random(7,2,d=5,c=3) #position => keyword"
      ],
      "metadata": {
        "colab": {
          "base_uri": "https://localhost:8080/"
        },
        "id": "_uMyzx8Ihmo_",
        "outputId": "05e35be1-9ca6-4939-9b3b-a0f848b20bac"
      },
      "execution_count": 17,
      "outputs": [
        {
          "output_type": "stream",
          "name": "stdout",
          "text": [
            "7 2 3 5\n"
          ]
        }
      ]
    },
    {
      "cell_type": "code",
      "source": [
        "random(7,2,a=5,c=3)"
      ],
      "metadata": {
        "colab": {
          "base_uri": "https://localhost:8080/",
          "height": 168
        },
        "id": "rJcGf2yLh8XI",
        "outputId": "73166c69-e267-44a6-a9dc-6e4a1fa14fe6"
      },
      "execution_count": 19,
      "outputs": [
        {
          "output_type": "error",
          "ename": "TypeError",
          "evalue": "ignored",
          "traceback": [
            "\u001b[0;31m---------------------------------------------------------------------------\u001b[0m",
            "\u001b[0;31mTypeError\u001b[0m                                 Traceback (most recent call last)",
            "\u001b[0;32m<ipython-input-19-25cfa42c5986>\u001b[0m in \u001b[0;36m<module>\u001b[0;34m\u001b[0m\n\u001b[0;32m----> 1\u001b[0;31m \u001b[0mrandom\u001b[0m\u001b[0;34m(\u001b[0m\u001b[0;36m7\u001b[0m\u001b[0;34m,\u001b[0m\u001b[0;36m2\u001b[0m\u001b[0;34m,\u001b[0m\u001b[0ma\u001b[0m\u001b[0;34m=\u001b[0m\u001b[0;36m5\u001b[0m\u001b[0;34m,\u001b[0m\u001b[0mc\u001b[0m\u001b[0;34m=\u001b[0m\u001b[0;36m3\u001b[0m\u001b[0;34m)\u001b[0m\u001b[0;34m\u001b[0m\u001b[0;34m\u001b[0m\u001b[0m\n\u001b[0m",
            "\u001b[0;31mTypeError\u001b[0m: random() got multiple values for argument 'a'"
          ]
        }
      ]
    },
    {
      "cell_type": "code",
      "source": [
        "random(7,2,c=3,b=4)"
      ],
      "metadata": {
        "colab": {
          "base_uri": "https://localhost:8080/",
          "height": 168
        },
        "id": "Oxspb6hzh8Ub",
        "outputId": "7196cb50-8fcb-4ea0-9845-48f7a502bfde"
      },
      "execution_count": 20,
      "outputs": [
        {
          "output_type": "error",
          "ename": "TypeError",
          "evalue": "ignored",
          "traceback": [
            "\u001b[0;31m---------------------------------------------------------------------------\u001b[0m",
            "\u001b[0;31mTypeError\u001b[0m                                 Traceback (most recent call last)",
            "\u001b[0;32m<ipython-input-20-dbd7293e4d57>\u001b[0m in \u001b[0;36m<module>\u001b[0;34m\u001b[0m\n\u001b[0;32m----> 1\u001b[0;31m \u001b[0mrandom\u001b[0m\u001b[0;34m(\u001b[0m\u001b[0;36m7\u001b[0m\u001b[0;34m,\u001b[0m\u001b[0;36m2\u001b[0m\u001b[0;34m,\u001b[0m\u001b[0mc\u001b[0m\u001b[0;34m=\u001b[0m\u001b[0;36m3\u001b[0m\u001b[0;34m,\u001b[0m\u001b[0mb\u001b[0m\u001b[0;34m=\u001b[0m\u001b[0;36m4\u001b[0m\u001b[0;34m)\u001b[0m\u001b[0;34m\u001b[0m\u001b[0;34m\u001b[0m\u001b[0m\n\u001b[0m",
            "\u001b[0;31mTypeError\u001b[0m: random() got multiple values for argument 'b'"
          ]
        }
      ]
    },
    {
      "cell_type": "code",
      "source": [
        "def random(a,b,c,d):\n",
        "  print(a,b,c,d)"
      ],
      "metadata": {
        "id": "cUuPOMT_jENc"
      },
      "execution_count": 21,
      "outputs": []
    },
    {
      "cell_type": "code",
      "source": [
        "random(a=1,b=2,3,4)"
      ],
      "metadata": {
        "colab": {
          "base_uri": "https://localhost:8080/",
          "height": 132
        },
        "id": "G5i0N0lQh8R4",
        "outputId": "02948c23-1873-460c-c7f5-6d689bd583f8"
      },
      "execution_count": 22,
      "outputs": [
        {
          "output_type": "error",
          "ename": "SyntaxError",
          "evalue": "ignored",
          "traceback": [
            "\u001b[0;36m  File \u001b[0;32m\"<ipython-input-22-15a98b1f23c2>\"\u001b[0;36m, line \u001b[0;32m1\u001b[0m\n\u001b[0;31m    random(a=1,b=2,3,4)\u001b[0m\n\u001b[0m                   ^\u001b[0m\n\u001b[0;31mSyntaxError\u001b[0m\u001b[0;31m:\u001b[0m positional argument follows keyword argument\n"
          ]
        }
      ]
    },
    {
      "cell_type": "code",
      "source": [
        "#quiz\n",
        "# What is output of the following code snippet?\n",
        "def power(number,exponent):\n",
        "    return number**exponent\n",
        "\n",
        "power(exponent=2, number=3)"
      ],
      "metadata": {
        "colab": {
          "base_uri": "https://localhost:8080/"
        },
        "id": "v_lIO9vTh8PY",
        "outputId": "e15736c0-784a-4a56-cdd4-606001550693"
      },
      "execution_count": 23,
      "outputs": [
        {
          "output_type": "execute_result",
          "data": {
            "text/plain": [
              "9"
            ]
          },
          "metadata": {},
          "execution_count": 23
        }
      ]
    },
    {
      "cell_type": "markdown",
      "source": [
        "#default keywords"
      ],
      "metadata": {
        "id": "2okb-TrikPrC"
      }
    },
    {
      "cell_type": "code",
      "source": [
        "help(print)"
      ],
      "metadata": {
        "colab": {
          "base_uri": "https://localhost:8080/"
        },
        "id": "eIGLOTUbj-Ur",
        "outputId": "eeedfc8e-b6a9-49a0-914e-412b5fb11b66"
      },
      "execution_count": 24,
      "outputs": [
        {
          "output_type": "stream",
          "name": "stdout",
          "text": [
            "Help on built-in function print in module builtins:\n",
            "\n",
            "print(...)\n",
            "    print(value, ..., sep=' ', end='\\n', file=sys.stdout, flush=False)\n",
            "    \n",
            "    Prints the values to a stream, or to sys.stdout by default.\n",
            "    Optional keyword arguments:\n",
            "    file:  a file-like object (stream); defaults to the current sys.stdout.\n",
            "    sep:   string inserted between values, default a space.\n",
            "    end:   string appended after the last value, default a newline.\n",
            "    flush: whether to forcibly flush the stream.\n",
            "\n"
          ]
        }
      ]
    },
    {
      "cell_type": "code",
      "source": [
        "print('deepakkumar','patil',sep='#',end='@')\n",
        "print('khim')"
      ],
      "metadata": {
        "colab": {
          "base_uri": "https://localhost:8080/"
        },
        "id": "LXV08EOEkjFn",
        "outputId": "7f53010e-32a5-44f4-c052-fd325fd7ca3c"
      },
      "execution_count": 25,
      "outputs": [
        {
          "output_type": "stream",
          "name": "stdout",
          "text": [
            "deepakkumar#patil@khim\n"
          ]
        }
      ]
    },
    {
      "cell_type": "code",
      "source": [
        "print('deepakkumar','patil')\n",
        "print('khim')"
      ],
      "metadata": {
        "colab": {
          "base_uri": "https://localhost:8080/"
        },
        "id": "NjvPiAujkjCw",
        "outputId": "46abe6ed-c397-4e33-98b0-c8aece7f36de"
      },
      "execution_count": 26,
      "outputs": [
        {
          "output_type": "stream",
          "name": "stdout",
          "text": [
            "deepakkumar patil\n",
            "khim\n"
          ]
        }
      ]
    },
    {
      "cell_type": "code",
      "source": [
        "# p = principal\n",
        "# r = rate of interest\n",
        "#t = time\n",
        "def simple_interest(p,r,t):\n",
        "  return (p*r*t/100)\n",
        "  "
      ],
      "metadata": {
        "id": "Y-WnHPJKki_2"
      },
      "execution_count": 27,
      "outputs": []
    },
    {
      "cell_type": "code",
      "source": [
        "si = simple_interest(100,2,10)\n",
        "print(si)"
      ],
      "metadata": {
        "colab": {
          "base_uri": "https://localhost:8080/"
        },
        "id": "Vjk1pdHGki82",
        "outputId": "2b8dcbe8-5b72-43d1-808b-34f689e84c47"
      },
      "execution_count": 28,
      "outputs": [
        {
          "output_type": "stream",
          "name": "stdout",
          "text": [
            "20.0\n"
          ]
        }
      ]
    },
    {
      "cell_type": "code",
      "source": [
        "def simple_interest(p,r,t):\n",
        "  print(p*r*t/100)"
      ],
      "metadata": {
        "id": "ubprEJSzouhM"
      },
      "execution_count": 30,
      "outputs": []
    },
    {
      "cell_type": "code",
      "source": [
        "si = simple_interest(100,2,10)\n",
        "print(si)"
      ],
      "metadata": {
        "colab": {
          "base_uri": "https://localhost:8080/"
        },
        "id": "oV-GOiTiow0j",
        "outputId": "4dac4004-bec3-4a5e-9269-4acee6ad6ab6"
      },
      "execution_count": 31,
      "outputs": [
        {
          "output_type": "stream",
          "name": "stdout",
          "text": [
            "20.0\n",
            "None\n"
          ]
        }
      ]
    },
    {
      "cell_type": "code",
      "source": [
        "# p = principal\n",
        "# r = rate of interest\n",
        "#t = time\n",
        "def simple_interest(p,t,r=10):\n",
        "  return (p*r*t/100)\n",
        "  "
      ],
      "metadata": {
        "id": "6FiWQuUCpEPx"
      },
      "execution_count": 38,
      "outputs": []
    },
    {
      "cell_type": "code",
      "source": [
        "simple_interest(100,5)"
      ],
      "metadata": {
        "colab": {
          "base_uri": "https://localhost:8080/"
        },
        "id": "mwz4_vbepJ3f",
        "outputId": "ceccd6fa-3b2b-455f-fb58-8168a6af7873"
      },
      "execution_count": 39,
      "outputs": [
        {
          "output_type": "execute_result",
          "data": {
            "text/plain": [
              "50.0"
            ]
          },
          "metadata": {},
          "execution_count": 39
        }
      ]
    },
    {
      "cell_type": "code",
      "source": [
        "simple_interest(100,5,5)"
      ],
      "metadata": {
        "colab": {
          "base_uri": "https://localhost:8080/"
        },
        "id": "CVdHjLn7qEQ9",
        "outputId": "dc9f527e-68fb-4681-8049-7c4213e26f6e"
      },
      "execution_count": 40,
      "outputs": [
        {
          "output_type": "execute_result",
          "data": {
            "text/plain": [
              "25.0"
            ]
          },
          "metadata": {},
          "execution_count": 40
        }
      ]
    },
    {
      "cell_type": "code",
      "source": [
        "# p = principal\n",
        "# r = rate of interest\n",
        "#t = time\n",
        "def simple_interest(p=50,t=1,r=10):\n",
        "  return (p*r*t/100)"
      ],
      "metadata": {
        "id": "FezyV1D3qw2P"
      },
      "execution_count": 41,
      "outputs": []
    },
    {
      "cell_type": "code",
      "source": [
        "print(simple_interest())\n",
        "print(simple_interest(1000))\n",
        "print(simple_interest(100,2))\n",
        "print(simple_interest(200,1,30))"
      ],
      "metadata": {
        "colab": {
          "base_uri": "https://localhost:8080/"
        },
        "id": "ikuETpVGqzWk",
        "outputId": "738a0dbe-8bfc-4b51-b65c-c22555c6e4af"
      },
      "execution_count": 44,
      "outputs": [
        {
          "output_type": "stream",
          "name": "stdout",
          "text": [
            "5.0\n",
            "100.0\n",
            "20.0\n",
            "60.0\n"
          ]
        }
      ]
    },
    {
      "cell_type": "code",
      "source": [
        "def simple_interest(p=50,t,r=10):\n",
        "  return (p*r*t)/100"
      ],
      "metadata": {
        "colab": {
          "base_uri": "https://localhost:8080/",
          "height": 132
        },
        "id": "XUcM9DIVrrz4",
        "outputId": "8e136f74-746a-4c7b-cfa7-083148ec862c"
      },
      "execution_count": 45,
      "outputs": [
        {
          "output_type": "error",
          "ename": "SyntaxError",
          "evalue": "ignored",
          "traceback": [
            "\u001b[0;36m  File \u001b[0;32m\"<ipython-input-45-9715f42b4ccf>\"\u001b[0;36m, line \u001b[0;32m1\u001b[0m\n\u001b[0;31m    def simple_interest(p=50,t,r=10):\u001b[0m\n\u001b[0m                        ^\u001b[0m\n\u001b[0;31mSyntaxError\u001b[0m\u001b[0;31m:\u001b[0m non-default argument follows default argument\n"
          ]
        }
      ]
    },
    {
      "cell_type": "code",
      "source": [
        "# positional => keyword => calling the function\n",
        "# non-default => default => defining the function"
      ],
      "metadata": {
        "id": "QPfLtTXMsYXm"
      },
      "execution_count": null,
      "outputs": []
    },
    {
      "cell_type": "code",
      "source": [
        "#quiz\n",
        "# What is the output of following code snippet?\n",
        "def power(x, e=1):\n",
        "    return x ** e\n",
        "\n",
        "power(3, 3)"
      ],
      "metadata": {
        "colab": {
          "base_uri": "https://localhost:8080/"
        },
        "id": "k0dABV6JtOjO",
        "outputId": "cd92e0e9-918e-47aa-d4bd-781f3254e2d3"
      },
      "execution_count": 46,
      "outputs": [
        {
          "output_type": "execute_result",
          "data": {
            "text/plain": [
              "27"
            ]
          },
          "metadata": {},
          "execution_count": 46
        }
      ]
    },
    {
      "cell_type": "code",
      "source": [
        "#quiz\n",
        "def print_date(d, m, y, style=0):\n",
        "    if style == 0:  # American\n",
        "        print(m, '/', d, '/', y)\n",
        "    elif style == 1:  # European\n",
        "        print(d, '/', m, '/', y)\n",
        "    else:\n",
        "        print('Invalid Style')\n",
        "print_date(30, 5, 2022)"
      ],
      "metadata": {
        "colab": {
          "base_uri": "https://localhost:8080/"
        },
        "id": "eKbVqL5Btv6A",
        "outputId": "1082ebd9-60af-43d8-9cfe-b0bef6269125"
      },
      "execution_count": 47,
      "outputs": [
        {
          "output_type": "stream",
          "name": "stdout",
          "text": [
            "5 / 30 / 2022\n"
          ]
        }
      ]
    },
    {
      "cell_type": "code",
      "source": [
        "# A\n",
        "# 30/5/22\n",
        "# B\n",
        "# 30/5/2022\n",
        "# C\n",
        "# 5/30/2022"
      ],
      "metadata": {
        "id": "JY1NyVEZvDik"
      },
      "execution_count": null,
      "outputs": []
    },
    {
      "cell_type": "code",
      "source": [
        "def print_date(d=1, m=1, y=2022, s=0):\n",
        "    if s == 0:  # American\n",
        "        print(m, '/', d, '/', y)\n",
        "    elif s == 1:  # European\n",
        "        print(d, '/', m, '/', y)\n",
        "    else:\n",
        "        print('Invalid Style')\n",
        "\n",
        "print_date(d=30, y=2022)"
      ],
      "metadata": {
        "colab": {
          "base_uri": "https://localhost:8080/"
        },
        "id": "BKq2LREYvSc1",
        "outputId": "6d988342-205a-431b-ae43-048ab75d4f70"
      },
      "execution_count": 48,
      "outputs": [
        {
          "output_type": "stream",
          "name": "stdout",
          "text": [
            "1 / 30 / 2022\n"
          ]
        }
      ]
    },
    {
      "cell_type": "markdown",
      "source": [
        "#scope of variable"
      ],
      "metadata": {
        "id": "iqXkYRDswKuU"
      }
    },
    {
      "cell_type": "code",
      "source": [
        "# scope of variable - region within which a variable can be used\n",
        "\n",
        "# global variable\n",
        "chief_of_house = \"mother\"\n",
        "\n",
        "def change_chief():\n",
        "    # local variable\n",
        "    chief_of_house = \"father\"\n",
        "    print(\"Inside the function -\", chief_of_house)\n",
        "    \n",
        "    \n",
        "change_chief()\n",
        "print(\"Outside the function -\", chief_of_house)"
      ],
      "metadata": {
        "colab": {
          "base_uri": "https://localhost:8080/"
        },
        "id": "nYzMo8YSwM2s",
        "outputId": "4f16f95b-045a-4431-f983-2ab20faf60b0"
      },
      "execution_count": 49,
      "outputs": [
        {
          "output_type": "stream",
          "name": "stdout",
          "text": [
            "Inside the function - father\n",
            "Outside the function - mother\n"
          ]
        }
      ]
    },
    {
      "cell_type": "code",
      "source": [
        "# scope of variable - region within which a variable can be used\n",
        "\n",
        "# global variable\n",
        "chief_of_house = \"mother\"\n",
        "\n",
        "def change_chief():\n",
        "    # local variable\n",
        "    # chief_of_house = \"father\"\n",
        "    print(\"Inside the function -\", chief_of_house)\n",
        "    \n",
        "    \n",
        "change_chief()\n",
        "print(\"Outside the function -\", chief_of_house)"
      ],
      "metadata": {
        "colab": {
          "base_uri": "https://localhost:8080/"
        },
        "id": "R5yoMkURxQ11",
        "outputId": "4bacbf0c-7582-480e-d27f-63e227d644b9"
      },
      "execution_count": 50,
      "outputs": [
        {
          "output_type": "stream",
          "name": "stdout",
          "text": [
            "Inside the function - mother\n",
            "Outside the function - mother\n"
          ]
        }
      ]
    },
    {
      "cell_type": "code",
      "source": [
        "# global variable\n",
        "# chief = \"mother\"\n",
        "\n",
        "def change_chief():\n",
        "    # local variable\n",
        "    chief = \"father\"\n",
        "    print(\"Inside the function -\", chief)\n",
        "    \n",
        "    \n",
        "change_chief()\n",
        "print(\"Outside the function -\", chief)"
      ],
      "metadata": {
        "colab": {
          "base_uri": "https://localhost:8080/",
          "height": 221
        },
        "id": "N41sgIhmzIsU",
        "outputId": "5bc41f4a-a6a3-4917-fad5-0bccd3c0ef8c"
      },
      "execution_count": 51,
      "outputs": [
        {
          "output_type": "stream",
          "name": "stdout",
          "text": [
            "Inside the function - father\n"
          ]
        },
        {
          "output_type": "error",
          "ename": "NameError",
          "evalue": "ignored",
          "traceback": [
            "\u001b[0;31m---------------------------------------------------------------------------\u001b[0m",
            "\u001b[0;31mNameError\u001b[0m                                 Traceback (most recent call last)",
            "\u001b[0;32m<ipython-input-51-3f789f4c90fb>\u001b[0m in \u001b[0;36m<module>\u001b[0;34m\u001b[0m\n\u001b[1;32m      9\u001b[0m \u001b[0;34m\u001b[0m\u001b[0m\n\u001b[1;32m     10\u001b[0m \u001b[0mchange_chief\u001b[0m\u001b[0;34m(\u001b[0m\u001b[0;34m)\u001b[0m\u001b[0;34m\u001b[0m\u001b[0;34m\u001b[0m\u001b[0m\n\u001b[0;32m---> 11\u001b[0;31m \u001b[0mprint\u001b[0m\u001b[0;34m(\u001b[0m\u001b[0;34m\"Outside the function -\"\u001b[0m\u001b[0;34m,\u001b[0m \u001b[0mchief\u001b[0m\u001b[0;34m)\u001b[0m\u001b[0;34m\u001b[0m\u001b[0;34m\u001b[0m\u001b[0m\n\u001b[0m",
            "\u001b[0;31mNameError\u001b[0m: name 'chief' is not defined"
          ]
        }
      ]
    },
    {
      "cell_type": "code",
      "source": [
        "\n",
        "# global variable\n",
        "chief_of_house = \"mother\"\n",
        "\n",
        "def change_chief():\n",
        "    # local variable\n",
        "    global chief_of_house \n",
        "    chief_of_house = \"father\"\n",
        "    print(\"Inside the function -\", chief_of_house)\n",
        "    \n",
        "    \n",
        "change_chief()\n",
        "print(\"Outside the function -\", chief_of_house)"
      ],
      "metadata": {
        "colab": {
          "base_uri": "https://localhost:8080/"
        },
        "id": "8-PLbw4S0K3F",
        "outputId": "4375074b-3b7a-4274-9ed2-ed259825fcdf"
      },
      "execution_count": 54,
      "outputs": [
        {
          "output_type": "stream",
          "name": "stdout",
          "text": [
            "Inside the function - father\n",
            "Outside the function - father\n"
          ]
        }
      ]
    },
    {
      "cell_type": "code",
      "source": [
        "#quiz\n",
        "# What does the following code print?\n",
        "a = 10\n",
        "def f():\n",
        "    print('Hello')\n",
        "    b = 20\n",
        "f()\n",
        "print(a)\n",
        "print(b)"
      ],
      "metadata": {
        "colab": {
          "base_uri": "https://localhost:8080/",
          "height": 239
        },
        "id": "yX_wyVr51ngc",
        "outputId": "a012c1fa-a943-4616-bffc-6be7378a4880"
      },
      "execution_count": 55,
      "outputs": [
        {
          "output_type": "stream",
          "name": "stdout",
          "text": [
            "Hello\n",
            "10\n"
          ]
        },
        {
          "output_type": "error",
          "ename": "NameError",
          "evalue": "ignored",
          "traceback": [
            "\u001b[0;31m---------------------------------------------------------------------------\u001b[0m",
            "\u001b[0;31mNameError\u001b[0m                                 Traceback (most recent call last)",
            "\u001b[0;32m<ipython-input-55-01e6aff87355>\u001b[0m in \u001b[0;36m<module>\u001b[0;34m\u001b[0m\n\u001b[1;32m      7\u001b[0m \u001b[0mf\u001b[0m\u001b[0;34m(\u001b[0m\u001b[0;34m)\u001b[0m\u001b[0;34m\u001b[0m\u001b[0;34m\u001b[0m\u001b[0m\n\u001b[1;32m      8\u001b[0m \u001b[0mprint\u001b[0m\u001b[0;34m(\u001b[0m\u001b[0ma\u001b[0m\u001b[0;34m)\u001b[0m\u001b[0;34m\u001b[0m\u001b[0;34m\u001b[0m\u001b[0m\n\u001b[0;32m----> 9\u001b[0;31m \u001b[0mprint\u001b[0m\u001b[0;34m(\u001b[0m\u001b[0mb\u001b[0m\u001b[0;34m)\u001b[0m\u001b[0;34m\u001b[0m\u001b[0;34m\u001b[0m\u001b[0m\n\u001b[0m",
            "\u001b[0;31mNameError\u001b[0m: name 'b' is not defined"
          ]
        }
      ]
    },
    {
      "cell_type": "code",
      "source": [
        "# What would be the output of the following code?\n",
        "a = 10\n",
        "\n",
        "def calculator(number):\n",
        "    return (number * 10)\n",
        "\n",
        "\n",
        "num= calculator(a)\n",
        "print(num)\n",
        "print(a)"
      ],
      "metadata": {
        "colab": {
          "base_uri": "https://localhost:8080/"
        },
        "id": "pXq8gFGu2U5b",
        "outputId": "2d8ed452-cce6-4c58-f097-7452fc7fe636"
      },
      "execution_count": 57,
      "outputs": [
        {
          "output_type": "stream",
          "name": "stdout",
          "text": [
            "100\n",
            "10\n"
          ]
        }
      ]
    },
    {
      "cell_type": "code",
      "source": [
        "#doubts\n",
        "# What would be the output of the following code?\n",
        "a = int(input())\n",
        "\n",
        "def calculator(number):\n",
        "  \n",
        "    return (number * 10)\n",
        "\n",
        "\n",
        "num= calculator(a)\n",
        "print(num)\n",
        "print(a)"
      ],
      "metadata": {
        "colab": {
          "base_uri": "https://localhost:8080/"
        },
        "id": "76qCStGY4AB_",
        "outputId": "0a827771-af3f-473b-e032-5f55e9e40090"
      },
      "execution_count": 58,
      "outputs": [
        {
          "output_type": "stream",
          "name": "stdout",
          "text": [
            "100\n",
            "1000\n",
            "100\n"
          ]
        }
      ]
    },
    {
      "cell_type": "code",
      "source": [
        "#doubts\n",
        "# What would be the output of the following code?\n",
        "a = int(input())\n",
        "\n",
        "def calculator(number):\n",
        "    ''' this function is doing number *10'''\n",
        "    print(number *10)\n",
        "    # return (number * 10)\n",
        "\n",
        "\n",
        "num= calculator(a)\n",
        "print(num)\n",
        "# print(a)"
      ],
      "metadata": {
        "colab": {
          "base_uri": "https://localhost:8080/"
        },
        "id": "bOD-0B_O4RUo",
        "outputId": "9188d631-552d-41c6-8b6f-6413d87c331f"
      },
      "execution_count": 60,
      "outputs": [
        {
          "output_type": "stream",
          "name": "stdout",
          "text": [
            "100\n",
            "1000\n",
            "None\n"
          ]
        }
      ]
    },
    {
      "cell_type": "code",
      "source": [],
      "metadata": {
        "id": "eeNuSz8W5Qo2"
      },
      "execution_count": null,
      "outputs": []
    },
    {
      "cell_type": "code",
      "source": [],
      "metadata": {
        "id": "IZNIFBh95Xdt"
      },
      "execution_count": null,
      "outputs": []
    },
    {
      "cell_type": "code",
      "source": [
        "help(calculator)"
      ],
      "metadata": {
        "colab": {
          "base_uri": "https://localhost:8080/"
        },
        "id": "t_SuGPxV5XbE",
        "outputId": "048edb45-1d4d-4dd2-9a7e-d61bdf2ceef9"
      },
      "execution_count": 61,
      "outputs": [
        {
          "output_type": "stream",
          "name": "stdout",
          "text": [
            "Help on function calculator in module __main__:\n",
            "\n",
            "calculator(number)\n",
            "    this function is doing number *10\n",
            "\n"
          ]
        }
      ]
    },
    {
      "cell_type": "code",
      "source": [
        "a = int(input())\n",
        "\n",
        "def calculator():\n",
        "    return (number * 10)\n",
        "\n",
        "\n",
        "num= calculator(a)\n",
        "print(num)\n",
        "print(a)"
      ],
      "metadata": {
        "colab": {
          "base_uri": "https://localhost:8080/",
          "height": 257
        },
        "id": "0ZruS3iM5XYh",
        "outputId": "3eff4b94-afd7-4c67-e553-d5137ac998a3"
      },
      "execution_count": 62,
      "outputs": [
        {
          "name": "stdout",
          "output_type": "stream",
          "text": [
            "100\n"
          ]
        },
        {
          "output_type": "error",
          "ename": "TypeError",
          "evalue": "ignored",
          "traceback": [
            "\u001b[0;31m---------------------------------------------------------------------------\u001b[0m",
            "\u001b[0;31mTypeError\u001b[0m                                 Traceback (most recent call last)",
            "\u001b[0;32m<ipython-input-62-a912586d481d>\u001b[0m in \u001b[0;36m<module>\u001b[0;34m\u001b[0m\n\u001b[1;32m      5\u001b[0m \u001b[0;34m\u001b[0m\u001b[0m\n\u001b[1;32m      6\u001b[0m \u001b[0;34m\u001b[0m\u001b[0m\n\u001b[0;32m----> 7\u001b[0;31m \u001b[0mnum\u001b[0m\u001b[0;34m=\u001b[0m \u001b[0mcalculator\u001b[0m\u001b[0;34m(\u001b[0m\u001b[0ma\u001b[0m\u001b[0;34m)\u001b[0m\u001b[0;34m\u001b[0m\u001b[0;34m\u001b[0m\u001b[0m\n\u001b[0m\u001b[1;32m      8\u001b[0m \u001b[0mprint\u001b[0m\u001b[0;34m(\u001b[0m\u001b[0mnum\u001b[0m\u001b[0;34m)\u001b[0m\u001b[0;34m\u001b[0m\u001b[0;34m\u001b[0m\u001b[0m\n\u001b[1;32m      9\u001b[0m \u001b[0mprint\u001b[0m\u001b[0;34m(\u001b[0m\u001b[0ma\u001b[0m\u001b[0;34m)\u001b[0m\u001b[0;34m\u001b[0m\u001b[0;34m\u001b[0m\u001b[0m\n",
            "\u001b[0;31mTypeError\u001b[0m: calculator() takes 0 positional arguments but 1 was given"
          ]
        }
      ]
    },
    {
      "cell_type": "code",
      "source": [
        "help(print)"
      ],
      "metadata": {
        "colab": {
          "base_uri": "https://localhost:8080/"
        },
        "id": "uBiyV6c66vp0",
        "outputId": "d22a5a9a-fa35-41c5-8063-4d59efa868ab"
      },
      "execution_count": 65,
      "outputs": [
        {
          "output_type": "stream",
          "name": "stdout",
          "text": [
            "Help on built-in function print in module builtins:\n",
            "\n",
            "print(...)\n",
            "    print(value, ..., sep=' ', end='\\n', file=sys.stdout, flush=False)\n",
            "    \n",
            "    Prints the values to a stream, or to sys.stdout by default.\n",
            "    Optional keyword arguments:\n",
            "    file:  a file-like object (stream); defaults to the current sys.stdout.\n",
            "    sep:   string inserted between values, default a space.\n",
            "    end:   string appended after the last value, default a newline.\n",
            "    flush: whether to forcibly flush the stream.\n",
            "\n"
          ]
        }
      ]
    },
    {
      "cell_type": "code",
      "source": [],
      "metadata": {
        "id": "Bux_EPO-776E"
      },
      "execution_count": null,
      "outputs": []
    }
  ]
}
